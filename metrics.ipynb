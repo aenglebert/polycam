{
 "cells": [
  {
   "cell_type": "markdown",
   "id": "pretty-chess",
   "metadata": {},
   "source": [
    "<h1>Faithfulness metrics</h1>"
   ]
  },
  {
   "cell_type": "markdown",
   "id": "focal-stuff",
   "metadata": {},
   "source": [
    "<h2>Introduction</h2>"
   ]
  },
  {
   "cell_type": "markdown",
   "id": "announced-webster",
   "metadata": {},
   "source": [
    "<p>This notebook allow to retrieve the faithfulness metrics for compared saliency methods</p>\n",
    "<p>It requires the installation of requirements.txt and jupyter</p>"
   ]
  },
  {
   "cell_type": "markdown",
   "id": "greater-commander",
   "metadata": {},
   "source": [
    "<h2>Parameters</h2>"
   ]
  },
  {
   "cell_type": "code",
   "execution_count": null,
   "id": "quick-percentage",
   "metadata": {},
   "outputs": [],
   "source": [
    "model = 'vgg16'\n",
    "csv_folder = './csv'\n",
    "\n",
    "### All available methods by default\n",
    "### Use the desired subpart\n",
    "#saliency_dict = {'gradcam':'GradCAM', 'gradcampp':'GradCAM++', 'smoothgradcampp':'SmoothGradCAM++', \n",
    "#                 'scorecam':'ScoreCAM',  'sscam':'SSCAM', 'iscam':'ISCAM', \n",
    "#                 'zoomcam':'ZoomCAM', 'layercamfusion4':'LayerCAM',\n",
    "#                 'ig':'IntegratedGradient', 'ixg':'InputXGrad', 'sg':'SmoothGrad',\n",
    "#                 'rise':'RISE', 'occlusion':'Occlusion',\n",
    "#                 'pcamp4':'PCAM+', \"pcamm4\":\"PCAM-\", 'pcampm4':'PCAM+/-'}\n",
    "\n",
    "# Example of subsample for CAM methods\n",
    "saliency_dict = {'gradcam':'GradCAM', 'gradcampp':'GradCAM++', 'smoothgradcampp':'SmoothGradCAM++', \n",
    "                 'scorecam':'ScoreCAM',  'sscam':'SSCAM', 'iscam':'ISCAM',\n",
    "                 'zoomcam':'ZoomCAM', 'layercamfusion4':'LayerCAM',\n",
    "                 'pcampm4':'PCAM+/-'}\n",
    "\n"
   ]
  },
  {
   "cell_type": "code",
   "execution_count": null,
   "id": "radical-village",
   "metadata": {},
   "outputs": [],
   "source": [
    "import pandas as pd\n",
    "import numpy as np\n",
    "from matplotlib import pyplot as plt\n",
    "import matplotlib as mpl"
   ]
  },
  {
   "cell_type": "code",
   "execution_count": null,
   "id": "sporting-classics",
   "metadata": {},
   "outputs": [],
   "source": [
    "x = (np.array(range(224))+1)/224"
   ]
  },
  {
   "cell_type": "markdown",
   "id": "oriental-spirit",
   "metadata": {},
   "source": [
    "<h2>Metrics</h2>"
   ]
  },
  {
   "cell_type": "code",
   "execution_count": null,
   "id": "5ad48977",
   "metadata": {
    "scrolled": false
   },
   "outputs": [],
   "source": [
    "print(model, \"faithfulness metrics\")\n",
    "print('____________________________________')\n",
    "for saliency in saliency_dict.keys():\n",
    "    del_auc = pd.read_csv (csv_folder + \"/\" + \"del_auc_\" + model + \"_\" + saliency + \".csv\").to_numpy()\n",
    "    ins_auc = pd.read_csv (csv_folder + \"/\" + \"ins_auc_\" + model + \"_\" + saliency + \".csv\").to_numpy()\n",
    "    \n",
    "    del_details = pd.read_csv (csv_folder + \"/\" + \"del_details_\" + model + \"_\" + saliency + \".csv\").to_numpy()\n",
    "    del_details_float = np.array(del_details[:, 1:], dtype=float)\n",
    "    mean_del_auc = np.mean(del_auc[:,1])\n",
    "    \n",
    "    ins_details = pd.read_csv (csv_folder + \"/\" + \"ins_details_\" + model + \"_\" + saliency + \".csv\").to_numpy()\n",
    "    ins_details_float = np.array(ins_details[:, 1:], dtype=float)\n",
    "    mean_ins_auc = np.mean(ins_auc[:,1])\n",
    "    \n",
    "    try:\n",
    "        sens = pd.read_csv (csv_folder + \"/\" + \"sens_\" + model + \"_\" + saliency + \".csv\").to_numpy()\n",
    "        mean_sens = np.mean(sens[:,1])\n",
    "    except:\n",
    "        mean_sens = 0\n",
    "\n",
    "    print(saliency_dict[saliency])\n",
    "    print('Mean Insertion auc:           %0.3f' % mean_ins_auc)\n",
    "    print('Mean Deletion  auc:           %0.3f' % mean_del_auc)\n",
    "    print('Mean Insertion-Deletion auc:  %0.3f' % (mean_ins_auc - mean_del_auc))\n",
    "    print('Mean Insertion-Deletion auc:  %0.3f' % (mean_ins_auc - mean_del_auc))\n",
    "    print('Mean Sensitivity:             %0.3f' % mean_sens)\n",
    "    print('____________________________________')\n",
    "\n"
   ]
  },
  {
   "cell_type": "markdown",
   "id": "public-metropolitan",
   "metadata": {},
   "source": [
    "<h2>Curves</h2>"
   ]
  },
  {
   "cell_type": "code",
   "execution_count": null,
   "id": "developing-membership",
   "metadata": {},
   "outputs": [],
   "source": [
    "fig, ax = plt.subplots(1, 3, figsize=(16,6))\n",
    "fontsize = 22\n",
    "ax[0].set_title(\"Insertion\", fontsize=fontsize)\n",
    "ax[1].set_title(\"Deletion\", fontsize=fontsize)\n",
    "ax[2].set_title(\"Insertion-Deletion\", fontsize=fontsize)\n",
    "\n",
    "mpl.rc('xtick', labelsize=14) \n",
    "mpl.rc('ytick', labelsize=14) \n",
    "for idx_saliency, saliency in enumerate(saliency_dict.keys()):\n",
    "    ins_details = pd.read_csv (csv_folder + \"/\" + \"ins_details_\" + model + \"_\" + saliency + \".csv\").to_numpy()\n",
    "    mean_ins_details = ins_details[:, 1:].mean(0)\n",
    "    ax[0].plot(x, mean_ins_details, label = saliency_dict[saliency], lw=2)\n",
    "    del_details = pd.read_csv (csv_folder + \"/\" + \"del_details_\" + model + \"_\" + saliency + \".csv\").to_numpy()\n",
    "    mean_del_details = del_details[:, 1:].mean(0)\n",
    "    ax[1].plot(x, mean_del_details, label = saliency_dict[saliency], lw=2)\n",
    "    mean_del_details = del_details[:, 1:].mean(0)\n",
    "    mean_ins_details = ins_details[:, 1:].mean(0)\n",
    "    ins_del = mean_ins_details - mean_del_details\n",
    "    ax[2].plot(x, ins_del, label = saliency_dict[saliency], lw=2)\n",
    "    for cur_ax in ax:\n",
    "        cur_ax.legend(prop={'size': 16})\n",
    "\n",
    "plt.suptitle('Metrics on ' + str(ins_details.shape[0]) + ' images ', fontsize = fontsize*1.1)\n",
    "plt.tight_layout()\n",
    "display(fig)\n",
    "plt.close()"
   ]
  },
  {
   "cell_type": "markdown",
   "id": "bigger-factor",
   "metadata": {
    "scrolled": false
   },
   "source": [
    "<h2>Specific image curves</h2>"
   ]
  },
  {
   "cell_type": "markdown",
   "id": "sealed-edition",
   "metadata": {},
   "source": [
    "<p>Allow to generate insertion and deletion curves for any individual image.\n",
    "The number of the image is the index number in the images.txt list, same used in interactive_saliency_visualization.ipynb that can be used simultaly to provide visual feedback on image selection</p>"
   ]
  },
  {
   "cell_type": "code",
   "execution_count": null,
   "id": "rolled-tragedy",
   "metadata": {},
   "outputs": [],
   "source": [
    "# Select image number here\n",
    "i = 1000\n",
    "\n",
    "fig, ax = plt.subplots(1, 3, figsize=(16,6))\n",
    "fontsize = 22\n",
    "ax[0].set_title(\"Insertion\", fontsize=fontsize)\n",
    "ax[1].set_title(\"Deletion\", fontsize=fontsize)\n",
    "ax[2].set_title(\"Insertion-Deletion\", fontsize=fontsize)\n",
    "\n",
    "mpl.rc('xtick', labelsize=14) \n",
    "mpl.rc('ytick', labelsize=14) \n",
    "for idx_saliency, saliency in enumerate(saliency_dict.keys()):\n",
    "    ins_details = pd.read_csv (csv_folder + \"/\" + \"ins_details_\" + model + \"_\" + saliency + \".csv\").to_numpy()\n",
    "    cur_ins_details = ins_details[i, 1:]\n",
    "    ax[0].plot(x, cur_ins_details, label = saliency_dict[saliency], lw=2)\n",
    "    del_details = pd.read_csv (csv_folder + \"/\" + \"del_details_\" + model + \"_\" + saliency + \".csv\").to_numpy()\n",
    "    cur_del_details = del_details[i, 1:]\n",
    "    ax[1].plot(x, cur_del_details, label = saliency_dict[saliency], lw=2)\n",
    "    ins_del = cur_ins_details - cur_del_details\n",
    "    ax[2].plot(x, ins_del, label = saliency_dict[saliency], lw=2)\n",
    "    for cur_ax in ax:\n",
    "        cur_ax.legend(prop={'size': 16})\n",
    "plt.suptitle('Metrics on image id ' + str(i), fontsize = fontsize*1.1)\n",
    "plt.tight_layout()\n",
    "display(fig)\n",
    "plt.close()"
   ]
  },
  {
   "cell_type": "code",
   "execution_count": null,
   "id": "supposed-deployment",
   "metadata": {},
   "outputs": [],
   "source": []
  }
 ],
 "metadata": {
  "kernelspec": {
   "display_name": "sslXRay",
   "language": "python",
   "name": "sslxray"
  },
  "language_info": {
   "codemirror_mode": {
    "name": "ipython",
    "version": 3
   },
   "file_extension": ".py",
   "mimetype": "text/x-python",
   "name": "python",
   "nbconvert_exporter": "python",
   "pygments_lexer": "ipython3",
   "version": "3.7.5"
  }
 },
 "nbformat": 4,
 "nbformat_minor": 5
}
