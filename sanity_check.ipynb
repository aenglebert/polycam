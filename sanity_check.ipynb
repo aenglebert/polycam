{
 "cells": [
  {
   "cell_type": "markdown",
   "id": "wooden-wichita",
   "metadata": {},
   "source": [
    "<h1>Sanity Check for saliency map</h1>"
   ]
  },
  {
   "cell_type": "markdown",
   "id": "secondary-cosmetic",
   "metadata": {},
   "source": [
    "<h2>Introduction</h2>"
   ]
  },
  {
   "cell_type": "markdown",
   "id": "asian-panama",
   "metadata": {},
   "source": [
    "<p>This notebook help to generate sanity check for PolyCAM methods</p>\n",
    "<p>It does not required additional library in addition to requirements.txt and Jupyter</p>"
   ]
  },
  {
   "cell_type": "markdown",
   "id": "inner-merit",
   "metadata": {},
   "source": [
    "<h2>Parameters</h2>"
   ]
  },
  {
   "cell_type": "code",
   "execution_count": null,
   "id": "forced-merchant",
   "metadata": {},
   "outputs": [],
   "source": [
    "# Set gpu = True to use CUDA (recommended if available)\n",
    "gpu = True\n",
    "\n",
    "# Set batch size depending on the gpu memory size\n",
    "batch_size = 1\n",
    "\n",
    "image_list = 'images.txt'\n",
    "labels_list = 'imagenet_validation_imagename_labels.txt'\n",
    "image_folder = 'images'"
   ]
  },
  {
   "cell_type": "markdown",
   "id": "remarkable-animation",
   "metadata": {},
   "source": [
    "<h2>Preparation code</h2>"
   ]
  },
  {
   "cell_type": "code",
   "execution_count": null,
   "id": "retained-specialist",
   "metadata": {},
   "outputs": [],
   "source": [
    "import torch\n",
    "from torch.nn import Conv2d, Linear\n",
    "\n",
    "from torchvision import models\n",
    "from torchvision import transforms\n",
    "from torchvision.transforms.functional import normalize, resize\n",
    "\n",
    "from polycam.polycam import  PCAMp, PCAMm, PCAMpm\n",
    "\n",
    "from benchmarks.utils import overlay\n",
    "\n",
    "import PIL\n",
    "\n",
    "from matplotlib import pyplot as plt"
   ]
  },
  {
   "cell_type": "markdown",
   "id": "drawn-underground",
   "metadata": {},
   "source": [
    "<h2>Load model</h2>"
   ]
  },
  {
   "cell_type": "code",
   "execution_count": null,
   "id": "executed-audience",
   "metadata": {},
   "outputs": [],
   "source": [
    "model = models.vgg16(True)\n",
    "model.eval()\n",
    "if gpu:\n",
    "    model = model.cuda()"
   ]
  },
  {
   "cell_type": "markdown",
   "id": "characteristic-fantasy",
   "metadata": {},
   "source": [
    "<h2>Saliency maps selection</h2>"
   ]
  },
  {
   "cell_type": "code",
   "execution_count": null,
   "id": "sufficient-magnitude",
   "metadata": {},
   "outputs": [],
   "source": [
    "# Saliency methods to test\n",
    "saliency_list = []\n",
    "saliency_list.append([\"PCAM+\", PCAMp(model, batch_size=batch_size)])\n",
    "saliency_list.append([\"PCAM-\", PCAMm(model, batch_size=batch_size)])\n",
    "saliency_list.append([\"PCAM+/-\", PCAMpm(model, batch_size=batch_size)])"
   ]
  },
  {
   "cell_type": "markdown",
   "id": "proprietary-level",
   "metadata": {},
   "source": [
    "<h2>Image selection</h2>"
   ]
  },
  {
   "cell_type": "code",
   "execution_count": null,
   "id": "contrary-husband",
   "metadata": {},
   "outputs": [],
   "source": [
    "\n",
    "# Load image\n",
    "try:\n",
    "    del image\n",
    "except:\n",
    "    pass\n",
    "\n",
    "# Uncomment desired image or add your own\n",
    "\n",
    "#img = PIL.Image.open(\"sanity_images/ILSVRC2012_val_00015410.JPEG\")\n",
    "#img = PIL.Image.open(\"sanity_images/ILSVRC2012_val_00010495.JPEG\")\n",
    "img = PIL.Image.open(\"sanity_images/ILSVRC2012_val_00021206.JPEG\")\n",
    "#img = PIL.Image.open(\"sanity_images/ILSVRC2012_val_00032239.JPEG\")\n",
    "#img = PIL.Image.open(\"sanity_images/ILSVRC2012_val_00041179.JPEG\")\n"
   ]
  },
  {
   "cell_type": "markdown",
   "id": "american-decline",
   "metadata": {},
   "source": [
    "<h2>Image pre-processing</h2>"
   ]
  },
  {
   "cell_type": "code",
   "execution_count": null,
   "id": "little-reception",
   "metadata": {},
   "outputs": [],
   "source": [
    "input_size = 224\n",
    "\n",
    "totensor = transforms.ToTensor()\n",
    "\n",
    "image = resize(totensor(img), (input_size, input_size)).unsqueeze(0)\n",
    "\n",
    "if gpu:\n",
    "    image = image.cuda()\n",
    "\n",
    "image_norm = transforms.functional.normalize(image, (0.485, 0.456, 0.406), (0.229, 0.224, 0.225))\n",
    "\n",
    "# get result class\n",
    "out = model(image_norm)\n",
    "result_class = torch.softmax(out, dim=-1).max(1)[1].item()\n",
    "result_class = torch.softmax(model(image_norm), dim=-1).max(1)[1]\n"
   ]
  },
  {
   "cell_type": "markdown",
   "id": "isolated-degree",
   "metadata": {},
   "source": [
    "<h2>Generate sanity check</h2>"
   ]
  },
  {
   "cell_type": "code",
   "execution_count": null,
   "id": "adolescent-preference",
   "metadata": {},
   "outputs": [],
   "source": [
    "#number of saliency maps for PolyCAM methods\n",
    "nmap = 4\n",
    "\n",
    "# keep all saliency maps generated\n",
    "saliency_maps = {}\n",
    "\n",
    "# First generate original saliency map\n",
    "for saliency_name, saliency in saliency_list:\n",
    "    print(saliency_name)\n",
    "    saliency_maps[saliency_name] = []\n",
    "    saliency_map = saliency(image_norm)[nmap].cpu().detach()\n",
    "    saliency_maps[saliency_name].append(saliency(image_norm)[nmap].cpu().detach())\n",
    "    \n",
    "# Generate cascading sanity check\n",
    "i = 1\n",
    "s = 1\n",
    "for name, module in reversed(list(model.named_modules())):\n",
    "    if isinstance(module, Conv2d) or isinstance(module, Linear):\n",
    "        module.reset_parameters()\n",
    "        if ((i-1)%s == 0):\n",
    "            print(name)\n",
    "            for saliency_name, saliency in saliency_list:\n",
    "                print(saliency_name)\n",
    "                saliency_map = saliency(image_norm)[nmap].cpu().detach()\n",
    "                saliency_maps[saliency_name].append(saliency(image_norm)[nmap].cpu().detach())\n",
    "        i = i+1"
   ]
  },
  {
   "cell_type": "markdown",
   "id": "ranging-federal",
   "metadata": {},
   "source": [
    "<h2>Generate Visualization</h2>"
   ]
  },
  {
   "cell_type": "code",
   "execution_count": null,
   "id": "developing-filename",
   "metadata": {},
   "outputs": [],
   "source": [
    "fontsize = 32\n",
    "\n",
    "col_names = [\"Original saliency map\", \"classifier_fc3\", \"classifier_fc2\", \"classifier_fc1\",\n",
    "             \"block5_conv3\", \"block5_conv2\", \"block5_conv1\",\n",
    "             \"block4_conv3\", \"block4_conv2\", \"block4_conv1\", \n",
    "             \"block3_conv3\", \"block3_conv2\", \"block3_conv1\",\n",
    "             \"block2_conv2\", \"block2_conv1\",\n",
    "             \"block1_conv2\", \"block1_conv1\"\n",
    "            ]\n",
    "\n",
    "n_rows = len(saliency_maps.keys())\n",
    "n_columns = len(saliency_maps[saliency_list[0][0]])\n",
    "\n",
    "fig, ax = plt.subplots(n_rows, n_columns, figsize=((n_columns+2)*4, (n_rows+3)*4))\n",
    "for idx_row, (saliency_name, saliency) in enumerate(saliency_list):\n",
    "    \n",
    "    ax[idx_row][0].set_ylabel(saliency_name, labelpad=160, rotation=0, fontsize=52)\n",
    "    \n",
    "    for idx_col, saliency_map in enumerate(saliency_maps[saliency_name]):\n",
    "        ax[0][idx_col].set_title(col_names[idx_col], rotation=90, fontsize=42, pad=40)\n",
    "        \n",
    "        ax[idx_row][idx_col].set(yticklabels=[])\n",
    "        ax[idx_row][idx_col].set(xticklabels=[])\n",
    "        ax[idx_row][idx_col].tick_params(left=False)\n",
    "        ax[idx_row][idx_col].tick_params(bottom=False)\n",
    "        \n",
    "        sh, sw = saliency_map.shape[-2:]\n",
    "        saliency_map = saliency_map.view(1,1,sh,sw).type(torch.float32)\n",
    "        \n",
    "        ax[idx_row][idx_col].imshow(overlay(image[0], saliency_map[0], alpha=0, colormap=\"turbo\"))\n",
    "\n",
    "plt.tight_layout()\n",
    "plt.show()"
   ]
  },
  {
   "cell_type": "code",
   "execution_count": null,
   "id": "changing-brunswick",
   "metadata": {},
   "outputs": [],
   "source": []
  }
 ],
 "metadata": {
  "kernelspec": {
   "display_name": "sslXRay",
   "language": "python",
   "name": "sslxray"
  },
  "language_info": {
   "codemirror_mode": {
    "name": "ipython",
    "version": 3
   },
   "file_extension": ".py",
   "mimetype": "text/x-python",
   "name": "python",
   "nbconvert_exporter": "python",
   "pygments_lexer": "ipython3",
   "version": "3.7.5"
  }
 },
 "nbformat": 4,
 "nbformat_minor": 5
}
